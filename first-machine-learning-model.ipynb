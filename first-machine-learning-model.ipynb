{
 "cells": [
  {
   "cell_type": "markdown",
   "id": "b8576ec9",
   "metadata": {
    "papermill": {
     "duration": 0.004653,
     "end_time": "2025-07-23T01:24:04.800029",
     "exception": false,
     "start_time": "2025-07-23T01:24:04.795376",
     "status": "completed"
    },
    "tags": []
   },
   "source": [
    "**This notebook is an exercise in the [Introduction to Machine Learning](https://www.kaggle.com/learn/intro-to-machine-learning) course.  You can reference the tutorial at [this link](https://www.kaggle.com/dansbecker/your-first-machine-learning-model).**\n",
    "\n",
    "---\n"
   ]
  },
  {
   "cell_type": "markdown",
   "id": "f1fb762d",
   "metadata": {
    "papermill": {
     "duration": 0.003379,
     "end_time": "2025-07-23T01:24:04.807400",
     "exception": false,
     "start_time": "2025-07-23T01:24:04.804021",
     "status": "completed"
    },
    "tags": []
   },
   "source": [
    "## Recap\n",
    "So far, you have loaded your data and reviewed it with the following code. Run this cell to set up your coding environment where the previous step left off."
   ]
  },
  {
   "cell_type": "code",
   "execution_count": 1,
   "id": "7bd1e83d",
   "metadata": {
    "execution": {
     "iopub.execute_input": "2025-07-23T01:24:04.816964Z",
     "iopub.status.busy": "2025-07-23T01:24:04.815911Z",
     "iopub.status.idle": "2025-07-23T01:24:08.415727Z",
     "shell.execute_reply": "2025-07-23T01:24:08.414712Z"
    },
    "papermill": {
     "duration": 3.606401,
     "end_time": "2025-07-23T01:24:08.417626",
     "exception": false,
     "start_time": "2025-07-23T01:24:04.811225",
     "status": "completed"
    },
    "tags": []
   },
   "outputs": [
    {
     "name": "stdout",
     "output_type": "stream",
     "text": [
      "Setup Complete\n"
     ]
    }
   ],
   "source": [
    "# Code you have previously used to load data\n",
    "import pandas as pd\n",
    "\n",
    "# Path of the file to read\n",
    "iowa_file_path = '../input/home-data-for-ml-course/train.csv'\n",
    "\n",
    "home_data = pd.read_csv(iowa_file_path)\n",
    "\n",
    "# Set up code checking\n",
    "from learntools.core import binder\n",
    "binder.bind(globals())\n",
    "from learntools.machine_learning.ex3 import *\n",
    "\n",
    "print(\"Setup Complete\")"
   ]
  },
  {
   "cell_type": "markdown",
   "id": "8e625f79",
   "metadata": {
    "papermill": {
     "duration": 0.006542,
     "end_time": "2025-07-23T01:24:08.430923",
     "exception": false,
     "start_time": "2025-07-23T01:24:08.424381",
     "status": "completed"
    },
    "tags": []
   },
   "source": [
    "# Exercises\n",
    "\n",
    "## Step 1: Specify Prediction Target\n",
    "Select the target variable, which corresponds to the sales price. Save this to a new variable called `y`. You'll need to print a list of the columns to find the name of the column you need.\n"
   ]
  },
  {
   "cell_type": "code",
   "execution_count": 2,
   "id": "0e5f100c",
   "metadata": {
    "execution": {
     "iopub.execute_input": "2025-07-23T01:24:08.445368Z",
     "iopub.status.busy": "2025-07-23T01:24:08.444601Z",
     "iopub.status.idle": "2025-07-23T01:24:08.455357Z",
     "shell.execute_reply": "2025-07-23T01:24:08.454163Z"
    },
    "papermill": {
     "duration": 0.019961,
     "end_time": "2025-07-23T01:24:08.457081",
     "exception": false,
     "start_time": "2025-07-23T01:24:08.437120",
     "status": "completed"
    },
    "tags": []
   },
   "outputs": [
    {
     "data": {
      "text/plain": [
       "Index(['Id', 'MSSubClass', 'MSZoning', 'LotFrontage', 'LotArea', 'Street',\n",
       "       'Alley', 'LotShape', 'LandContour', 'Utilities', 'LotConfig',\n",
       "       'LandSlope', 'Neighborhood', 'Condition1', 'Condition2', 'BldgType',\n",
       "       'HouseStyle', 'OverallQual', 'OverallCond', 'YearBuilt', 'YearRemodAdd',\n",
       "       'RoofStyle', 'RoofMatl', 'Exterior1st', 'Exterior2nd', 'MasVnrType',\n",
       "       'MasVnrArea', 'ExterQual', 'ExterCond', 'Foundation', 'BsmtQual',\n",
       "       'BsmtCond', 'BsmtExposure', 'BsmtFinType1', 'BsmtFinSF1',\n",
       "       'BsmtFinType2', 'BsmtFinSF2', 'BsmtUnfSF', 'TotalBsmtSF', 'Heating',\n",
       "       'HeatingQC', 'CentralAir', 'Electrical', '1stFlrSF', '2ndFlrSF',\n",
       "       'LowQualFinSF', 'GrLivArea', 'BsmtFullBath', 'BsmtHalfBath', 'FullBath',\n",
       "       'HalfBath', 'BedroomAbvGr', 'KitchenAbvGr', 'KitchenQual',\n",
       "       'TotRmsAbvGrd', 'Functional', 'Fireplaces', 'FireplaceQu', 'GarageType',\n",
       "       'GarageYrBlt', 'GarageFinish', 'GarageCars', 'GarageArea', 'GarageQual',\n",
       "       'GarageCond', 'PavedDrive', 'WoodDeckSF', 'OpenPorchSF',\n",
       "       'EnclosedPorch', '3SsnPorch', 'ScreenPorch', 'PoolArea', 'PoolQC',\n",
       "       'Fence', 'MiscFeature', 'MiscVal', 'MoSold', 'YrSold', 'SaleType',\n",
       "       'SaleCondition', 'SalePrice'],\n",
       "      dtype='object')"
      ]
     },
     "execution_count": 2,
     "metadata": {},
     "output_type": "execute_result"
    }
   ],
   "source": [
    "# print the list of columns in the dataset to find the name of the prediction target\n",
    "home_data.columns"
   ]
  },
  {
   "cell_type": "code",
   "execution_count": 3,
   "id": "f4da9784",
   "metadata": {
    "execution": {
     "iopub.execute_input": "2025-07-23T01:24:08.476310Z",
     "iopub.status.busy": "2025-07-23T01:24:08.474941Z",
     "iopub.status.idle": "2025-07-23T01:24:08.488213Z",
     "shell.execute_reply": "2025-07-23T01:24:08.487200Z"
    },
    "papermill": {
     "duration": 0.025117,
     "end_time": "2025-07-23T01:24:08.490003",
     "exception": false,
     "start_time": "2025-07-23T01:24:08.464886",
     "status": "completed"
    },
    "tags": []
   },
   "outputs": [
    {
     "data": {
      "application/javascript": [
       "parent.postMessage({\"jupyterEvent\": \"custom.exercise_interaction\", \"data\": {\"outcomeType\": 1, \"valueTowardsCompletion\": 0.25, \"interactionType\": 1, \"questionType\": 2, \"questionId\": \"1_SetTarget\", \"learnToolsVersion\": \"0.3.5\", \"failureMessage\": \"\", \"exceptionClass\": \"\", \"trace\": \"\"}}, \"*\")"
      ],
      "text/plain": [
       "<IPython.core.display.Javascript object>"
      ]
     },
     "metadata": {},
     "output_type": "display_data"
    },
    {
     "data": {
      "text/markdown": [
       "<span style=\"color:#33cc33\">Correct</span>"
      ],
      "text/plain": [
       "Correct"
      ]
     },
     "metadata": {},
     "output_type": "display_data"
    }
   ],
   "source": [
    "y = home_data.SalePrice\n",
    "\n",
    "# Check your answer\n",
    "step_1.check()"
   ]
  },
  {
   "cell_type": "code",
   "execution_count": 4,
   "id": "47d240f1",
   "metadata": {
    "collapsed": true,
    "execution": {
     "iopub.execute_input": "2025-07-23T01:24:08.503047Z",
     "iopub.status.busy": "2025-07-23T01:24:08.502563Z",
     "iopub.status.idle": "2025-07-23T01:24:08.506900Z",
     "shell.execute_reply": "2025-07-23T01:24:08.506161Z"
    },
    "jupyter": {
     "outputs_hidden": true
    },
    "papermill": {
     "duration": 0.012397,
     "end_time": "2025-07-23T01:24:08.508664",
     "exception": false,
     "start_time": "2025-07-23T01:24:08.496267",
     "status": "completed"
    },
    "tags": []
   },
   "outputs": [],
   "source": [
    "# The lines below will show you a hint or the solution.\n",
    "# step_1.hint() \n",
    "# step_1.solution()"
   ]
  },
  {
   "cell_type": "markdown",
   "id": "f30e5010",
   "metadata": {
    "papermill": {
     "duration": 0.008936,
     "end_time": "2025-07-23T01:24:08.525439",
     "exception": false,
     "start_time": "2025-07-23T01:24:08.516503",
     "status": "completed"
    },
    "tags": []
   },
   "source": [
    "## Step 2: Create X\n",
    "Now you will create a DataFrame called `X` holding the predictive features.\n",
    "\n",
    "Since you want only some columns from the original data, you'll first create a list with the names of the columns you want in `X`.\n",
    "\n",
    "You'll use just the following columns in the list (you can copy and paste the whole list to save some typing, though you'll still need to add quotes):\n",
    "  * LotArea\n",
    "  * YearBuilt\n",
    "  * 1stFlrSF\n",
    "  * 2ndFlrSF\n",
    "  * FullBath\n",
    "  * BedroomAbvGr\n",
    "  * TotRmsAbvGrd\n",
    "\n",
    "After you've created that list of features, use it to create the DataFrame that you'll use to fit the model."
   ]
  },
  {
   "cell_type": "code",
   "execution_count": 5,
   "id": "c244feb9",
   "metadata": {
    "execution": {
     "iopub.execute_input": "2025-07-23T01:24:08.539502Z",
     "iopub.status.busy": "2025-07-23T01:24:08.538629Z",
     "iopub.status.idle": "2025-07-23T01:24:08.548588Z",
     "shell.execute_reply": "2025-07-23T01:24:08.547722Z"
    },
    "papermill": {
     "duration": 0.016153,
     "end_time": "2025-07-23T01:24:08.549980",
     "exception": false,
     "start_time": "2025-07-23T01:24:08.533827",
     "status": "completed"
    },
    "tags": []
   },
   "outputs": [
    {
     "data": {
      "application/javascript": [
       "parent.postMessage({\"jupyterEvent\": \"custom.exercise_interaction\", \"data\": {\"outcomeType\": 1, \"valueTowardsCompletion\": 0.25, \"interactionType\": 1, \"questionType\": 2, \"questionId\": \"2_SelectPredictionData\", \"learnToolsVersion\": \"0.3.5\", \"failureMessage\": \"\", \"exceptionClass\": \"\", \"trace\": \"\"}}, \"*\")"
      ],
      "text/plain": [
       "<IPython.core.display.Javascript object>"
      ]
     },
     "metadata": {},
     "output_type": "display_data"
    },
    {
     "data": {
      "text/markdown": [
       "<span style=\"color:#33cc33\">Correct</span>"
      ],
      "text/plain": [
       "Correct"
      ]
     },
     "metadata": {},
     "output_type": "display_data"
    }
   ],
   "source": [
    "# Create the list of features below\n",
    "feature_names = [\"LotArea\", \"YearBuilt\", \"1stFlrSF\", \"2ndFlrSF\", \"FullBath\", \"BedroomAbvGr\", \"TotRmsAbvGrd\"]\n",
    "\n",
    "# Select data corresponding to features in feature_names\n",
    "X = home_data[feature_names]\n",
    "\n",
    "# Check your answer\n",
    "step_2.check()"
   ]
  },
  {
   "cell_type": "code",
   "execution_count": 6,
   "id": "a0292a38",
   "metadata": {
    "collapsed": true,
    "execution": {
     "iopub.execute_input": "2025-07-23T01:24:08.559498Z",
     "iopub.status.busy": "2025-07-23T01:24:08.559196Z",
     "iopub.status.idle": "2025-07-23T01:24:08.563174Z",
     "shell.execute_reply": "2025-07-23T01:24:08.562372Z"
    },
    "jupyter": {
     "outputs_hidden": true
    },
    "papermill": {
     "duration": 0.010393,
     "end_time": "2025-07-23T01:24:08.564525",
     "exception": false,
     "start_time": "2025-07-23T01:24:08.554132",
     "status": "completed"
    },
    "tags": []
   },
   "outputs": [],
   "source": [
    "# step_2.hint()\n",
    "# step_2.solution()"
   ]
  },
  {
   "cell_type": "markdown",
   "id": "a9ddcaf4",
   "metadata": {
    "papermill": {
     "duration": 0.003695,
     "end_time": "2025-07-23T01:24:08.572486",
     "exception": false,
     "start_time": "2025-07-23T01:24:08.568791",
     "status": "completed"
    },
    "tags": []
   },
   "source": [
    "## Review Data\n",
    "Before building a model, take a quick look at **X** to verify it looks sensible"
   ]
  },
  {
   "cell_type": "code",
   "execution_count": 7,
   "id": "052d6806",
   "metadata": {
    "execution": {
     "iopub.execute_input": "2025-07-23T01:24:08.581438Z",
     "iopub.status.busy": "2025-07-23T01:24:08.581147Z",
     "iopub.status.idle": "2025-07-23T01:24:08.597597Z",
     "shell.execute_reply": "2025-07-23T01:24:08.596287Z"
    },
    "papermill": {
     "duration": 0.022735,
     "end_time": "2025-07-23T01:24:08.599084",
     "exception": false,
     "start_time": "2025-07-23T01:24:08.576349",
     "status": "completed"
    },
    "tags": []
   },
   "outputs": [
    {
     "name": "stdout",
     "output_type": "stream",
     "text": [
      "      LotArea  YearBuilt  1stFlrSF  2ndFlrSF  FullBath  BedroomAbvGr  \\\n",
      "0        8450       2003       856       854         2             3   \n",
      "1        9600       1976      1262         0         2             3   \n",
      "2       11250       2001       920       866         2             3   \n",
      "3        9550       1915       961       756         1             3   \n",
      "4       14260       2000      1145      1053         2             4   \n",
      "...       ...        ...       ...       ...       ...           ...   \n",
      "1455     7917       1999       953       694         2             3   \n",
      "1456    13175       1978      2073         0         2             3   \n",
      "1457     9042       1941      1188      1152         2             4   \n",
      "1458     9717       1950      1078         0         1             2   \n",
      "1459     9937       1965      1256         0         1             3   \n",
      "\n",
      "      TotRmsAbvGrd  \n",
      "0                8  \n",
      "1                6  \n",
      "2                6  \n",
      "3                7  \n",
      "4                9  \n",
      "...            ...  \n",
      "1455             7  \n",
      "1456             7  \n",
      "1457             9  \n",
      "1458             5  \n",
      "1459             6  \n",
      "\n",
      "[1460 rows x 7 columns]\n",
      "   LotArea  YearBuilt  1stFlrSF  2ndFlrSF  FullBath  BedroomAbvGr  \\\n",
      "0     8450       2003       856       854         2             3   \n",
      "1     9600       1976      1262         0         2             3   \n",
      "2    11250       2001       920       866         2             3   \n",
      "3     9550       1915       961       756         1             3   \n",
      "4    14260       2000      1145      1053         2             4   \n",
      "\n",
      "   TotRmsAbvGrd  \n",
      "0             8  \n",
      "1             6  \n",
      "2             6  \n",
      "3             7  \n",
      "4             9  \n"
     ]
    }
   ],
   "source": [
    "# Review data\n",
    "# print description or statistics from X\n",
    "print(X)\n",
    "\n",
    "# print the top few lines\n",
    "print(X.head())"
   ]
  },
  {
   "cell_type": "markdown",
   "id": "b4393756",
   "metadata": {
    "papermill": {
     "duration": 0.003915,
     "end_time": "2025-07-23T01:24:08.607314",
     "exception": false,
     "start_time": "2025-07-23T01:24:08.603399",
     "status": "completed"
    },
    "tags": []
   },
   "source": [
    "## Step 3: Specify and Fit Model\n",
    "Create a `DecisionTreeRegressor` and save it iowa_model. Ensure you've done the relevant import from sklearn to run this command.\n",
    "\n",
    "Then fit the model you just created using the data in `X` and `y` that you saved above."
   ]
  },
  {
   "cell_type": "code",
   "execution_count": 8,
   "id": "f975f01c",
   "metadata": {
    "execution": {
     "iopub.execute_input": "2025-07-23T01:24:08.616796Z",
     "iopub.status.busy": "2025-07-23T01:24:08.616464Z",
     "iopub.status.idle": "2025-07-23T01:24:08.636028Z",
     "shell.execute_reply": "2025-07-23T01:24:08.634968Z"
    },
    "papermill": {
     "duration": 0.026587,
     "end_time": "2025-07-23T01:24:08.637976",
     "exception": false,
     "start_time": "2025-07-23T01:24:08.611389",
     "status": "completed"
    },
    "tags": []
   },
   "outputs": [
    {
     "data": {
      "application/javascript": [
       "parent.postMessage({\"jupyterEvent\": \"custom.exercise_interaction\", \"data\": {\"outcomeType\": 1, \"valueTowardsCompletion\": 0.25, \"interactionType\": 1, \"questionType\": 2, \"questionId\": \"3_CreateModel\", \"learnToolsVersion\": \"0.3.5\", \"failureMessage\": \"\", \"exceptionClass\": \"\", \"trace\": \"\"}}, \"*\")"
      ],
      "text/plain": [
       "<IPython.core.display.Javascript object>"
      ]
     },
     "metadata": {},
     "output_type": "display_data"
    },
    {
     "data": {
      "text/markdown": [
       "<span style=\"color:#33cc33\">Correct</span>"
      ],
      "text/plain": [
       "Correct"
      ]
     },
     "metadata": {},
     "output_type": "display_data"
    }
   ],
   "source": [
    "from sklearn.tree import DecisionTreeRegressor\n",
    "#specify the model. \n",
    "#For model reproducibility, set a numeric value for random_state when specifying the model\n",
    "iowa_model = DecisionTreeRegressor(random_state=1)\n",
    "\n",
    "# Fit the model\n",
    "iowa_model.fit(X, y)\n",
    "\n",
    "# Check your answer\n",
    "step_3.check()"
   ]
  },
  {
   "cell_type": "code",
   "execution_count": 9,
   "id": "7b98c8f1",
   "metadata": {
    "collapsed": true,
    "execution": {
     "iopub.execute_input": "2025-07-23T01:24:08.658133Z",
     "iopub.status.busy": "2025-07-23T01:24:08.657793Z",
     "iopub.status.idle": "2025-07-23T01:24:08.663982Z",
     "shell.execute_reply": "2025-07-23T01:24:08.663032Z"
    },
    "jupyter": {
     "outputs_hidden": true
    },
    "papermill": {
     "duration": 0.01814,
     "end_time": "2025-07-23T01:24:08.665984",
     "exception": false,
     "start_time": "2025-07-23T01:24:08.647844",
     "status": "completed"
    },
    "tags": []
   },
   "outputs": [],
   "source": [
    "# step_3.hint()\n",
    "# step_3.solution()"
   ]
  },
  {
   "cell_type": "markdown",
   "id": "f1efd664",
   "metadata": {
    "papermill": {
     "duration": 0.00829,
     "end_time": "2025-07-23T01:24:08.680905",
     "exception": false,
     "start_time": "2025-07-23T01:24:08.672615",
     "status": "completed"
    },
    "tags": []
   },
   "source": [
    "## Step 4: Make Predictions\n",
    "Make predictions with the model's `predict` command using `X` as the data. Save the results to a variable called `predictions`."
   ]
  },
  {
   "cell_type": "code",
   "execution_count": 10,
   "id": "39c8ba31",
   "metadata": {
    "execution": {
     "iopub.execute_input": "2025-07-23T01:24:08.697244Z",
     "iopub.status.busy": "2025-07-23T01:24:08.696794Z",
     "iopub.status.idle": "2025-07-23T01:24:08.709185Z",
     "shell.execute_reply": "2025-07-23T01:24:08.708403Z"
    },
    "papermill": {
     "duration": 0.022208,
     "end_time": "2025-07-23T01:24:08.710455",
     "exception": false,
     "start_time": "2025-07-23T01:24:08.688247",
     "status": "completed"
    },
    "tags": []
   },
   "outputs": [
    {
     "name": "stdout",
     "output_type": "stream",
     "text": [
      "[208500. 181500. 223500. ... 266500. 142125. 147500.]\n"
     ]
    },
    {
     "data": {
      "application/javascript": [
       "parent.postMessage({\"jupyterEvent\": \"custom.exercise_interaction\", \"data\": {\"outcomeType\": 1, \"valueTowardsCompletion\": 0.25, \"interactionType\": 1, \"questionType\": 2, \"questionId\": \"4_MakePredictions\", \"learnToolsVersion\": \"0.3.5\", \"failureMessage\": \"\", \"exceptionClass\": \"\", \"trace\": \"\"}}, \"*\")"
      ],
      "text/plain": [
       "<IPython.core.display.Javascript object>"
      ]
     },
     "metadata": {},
     "output_type": "display_data"
    },
    {
     "data": {
      "text/markdown": [
       "<span style=\"color:#33cc33\">Correct</span>"
      ],
      "text/plain": [
       "Correct"
      ]
     },
     "metadata": {},
     "output_type": "display_data"
    }
   ],
   "source": [
    "predictions = iowa_model.predict(X)\n",
    "print(predictions)\n",
    "\n",
    "# Check your answer\n",
    "step_4.check()"
   ]
  },
  {
   "cell_type": "code",
   "execution_count": 11,
   "id": "ab44c904",
   "metadata": {
    "collapsed": true,
    "execution": {
     "iopub.execute_input": "2025-07-23T01:24:08.720480Z",
     "iopub.status.busy": "2025-07-23T01:24:08.720214Z",
     "iopub.status.idle": "2025-07-23T01:24:08.723806Z",
     "shell.execute_reply": "2025-07-23T01:24:08.722987Z"
    },
    "jupyter": {
     "outputs_hidden": true
    },
    "papermill": {
     "duration": 0.010314,
     "end_time": "2025-07-23T01:24:08.725317",
     "exception": false,
     "start_time": "2025-07-23T01:24:08.715003",
     "status": "completed"
    },
    "tags": []
   },
   "outputs": [],
   "source": [
    "# step_4.hint()\n",
    "# step_4.solution()"
   ]
  },
  {
   "cell_type": "markdown",
   "id": "132331cc",
   "metadata": {
    "papermill": {
     "duration": 0.006824,
     "end_time": "2025-07-23T01:24:08.740331",
     "exception": false,
     "start_time": "2025-07-23T01:24:08.733507",
     "status": "completed"
    },
    "tags": []
   },
   "source": [
    "## Think About Your Results\n",
    "\n",
    "Use the `head` method to compare the top few predictions to the actual home values (in `y`) for those same homes. Anything surprising?\n"
   ]
  },
  {
   "cell_type": "code",
   "execution_count": 12,
   "id": "b10ebe80",
   "metadata": {
    "execution": {
     "iopub.execute_input": "2025-07-23T01:24:08.751036Z",
     "iopub.status.busy": "2025-07-23T01:24:08.750250Z",
     "iopub.status.idle": "2025-07-23T01:24:08.758063Z",
     "shell.execute_reply": "2025-07-23T01:24:08.757118Z"
    },
    "papermill": {
     "duration": 0.014541,
     "end_time": "2025-07-23T01:24:08.759341",
     "exception": false,
     "start_time": "2025-07-23T01:24:08.744800",
     "status": "completed"
    },
    "tags": []
   },
   "outputs": [
    {
     "name": "stdout",
     "output_type": "stream",
     "text": [
      "[208500. 181500. 223500. 140000. 250000.]\n"
     ]
    }
   ],
   "source": [
    "# You can write code in this cell\n",
    "predictions = iowa_model.predict(X.head())\n",
    "print(predictions)"
   ]
  },
  {
   "cell_type": "markdown",
   "id": "2752361a",
   "metadata": {
    "papermill": {
     "duration": 0.00455,
     "end_time": "2025-07-23T01:24:08.768602",
     "exception": false,
     "start_time": "2025-07-23T01:24:08.764052",
     "status": "completed"
    },
    "tags": []
   },
   "source": [
    "It's natural to ask how accurate the model's predictions will be and how you can improve that. That will be you're next step.\n",
    "\n",
    "# Keep Going\n",
    "\n",
    "You are ready for **[Model Validation](https://www.kaggle.com/dansbecker/model-validation).**\n"
   ]
  },
  {
   "cell_type": "markdown",
   "id": "15018bc1",
   "metadata": {
    "papermill": {
     "duration": 0.00434,
     "end_time": "2025-07-23T01:24:08.777544",
     "exception": false,
     "start_time": "2025-07-23T01:24:08.773204",
     "status": "completed"
    },
    "tags": []
   },
   "source": [
    "---\n",
    "\n",
    "\n",
    "\n",
    "\n",
    "*Have questions or comments? Visit the [course discussion forum](https://www.kaggle.com/learn/intro-to-machine-learning/discussion) to chat with other learners.*"
   ]
  }
 ],
 "metadata": {
  "kaggle": {
   "accelerator": "none",
   "dataSources": [
    {
     "databundleVersionId": 111096,
     "sourceId": 10211,
     "sourceType": "competition"
    },
    {
     "datasetId": 11167,
     "sourceId": 15520,
     "sourceType": "datasetVersion"
    },
    {
     "datasetId": 2709,
     "sourceId": 38454,
     "sourceType": "datasetVersion"
    }
   ],
   "isGpuEnabled": false,
   "isInternetEnabled": false,
   "language": "python",
   "sourceType": "notebook"
  },
  "kernelspec": {
   "display_name": "Python 3",
   "language": "python",
   "name": "python3"
  },
  "language_info": {
   "codemirror_mode": {
    "name": "ipython",
    "version": 3
   },
   "file_extension": ".py",
   "mimetype": "text/x-python",
   "name": "python",
   "nbconvert_exporter": "python",
   "pygments_lexer": "ipython3",
   "version": "3.11.13"
  },
  "papermill": {
   "default_parameters": {},
   "duration": 9.291729,
   "end_time": "2025-07-23T01:24:09.402304",
   "environment_variables": {},
   "exception": null,
   "input_path": "__notebook__.ipynb",
   "output_path": "__notebook__.ipynb",
   "parameters": {},
   "start_time": "2025-07-23T01:24:00.110575",
   "version": "2.6.0"
  }
 },
 "nbformat": 4,
 "nbformat_minor": 5
}
