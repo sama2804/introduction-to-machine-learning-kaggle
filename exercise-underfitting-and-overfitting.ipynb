{
 "cells": [
  {
   "cell_type": "markdown",
   "id": "7ca1fe95",
   "metadata": {
    "papermill": {
     "duration": 0.003293,
     "end_time": "2025-07-23T16:18:40.671763",
     "exception": false,
     "start_time": "2025-07-23T16:18:40.668470",
     "status": "completed"
    },
    "tags": []
   },
   "source": [
    "**This notebook is an exercise in the [Introduction to Machine Learning](https://www.kaggle.com/learn/intro-to-machine-learning) course.  You can reference the tutorial at [this link](https://www.kaggle.com/dansbecker/underfitting-and-overfitting).**\n",
    "\n",
    "---\n"
   ]
  },
  {
   "cell_type": "markdown",
   "id": "b552557f",
   "metadata": {
    "papermill": {
     "duration": 0.00225,
     "end_time": "2025-07-23T16:18:40.677852",
     "exception": false,
     "start_time": "2025-07-23T16:18:40.675602",
     "status": "completed"
    },
    "tags": []
   },
   "source": [
    "## Recap\n",
    "You've built your first model, and now it's time to optimize the size of the tree to make better predictions. Run this cell to set up your coding environment where the previous step left off."
   ]
  },
  {
   "cell_type": "code",
   "execution_count": 1,
   "id": "ab13cf53",
   "metadata": {
    "execution": {
     "iopub.execute_input": "2025-07-23T16:18:40.684132Z",
     "iopub.status.busy": "2025-07-23T16:18:40.683828Z",
     "iopub.status.idle": "2025-07-23T16:18:44.582603Z",
     "shell.execute_reply": "2025-07-23T16:18:44.581288Z"
    },
    "papermill": {
     "duration": 3.903819,
     "end_time": "2025-07-23T16:18:44.584167",
     "exception": false,
     "start_time": "2025-07-23T16:18:40.680348",
     "status": "completed"
    },
    "tags": []
   },
   "outputs": [
    {
     "name": "stdout",
     "output_type": "stream",
     "text": [
      "Validation MAE: 29,653\n",
      "\n",
      "Setup complete\n"
     ]
    }
   ],
   "source": [
    "# Code you have previously used to load data\n",
    "import pandas as pd\n",
    "from sklearn.metrics import mean_absolute_error\n",
    "from sklearn.model_selection import train_test_split\n",
    "from sklearn.tree import DecisionTreeRegressor\n",
    "\n",
    "\n",
    "# Path of the file to read\n",
    "iowa_file_path = '../input/home-data-for-ml-course/train.csv'\n",
    "\n",
    "home_data = pd.read_csv(iowa_file_path)\n",
    "# Create target object and call it y\n",
    "y = home_data.SalePrice\n",
    "# Create X\n",
    "features = ['LotArea', 'YearBuilt', '1stFlrSF', '2ndFlrSF', 'FullBath', 'BedroomAbvGr', 'TotRmsAbvGrd']\n",
    "X = home_data[features]\n",
    "\n",
    "# Split into validation and training data\n",
    "train_X, val_X, train_y, val_y = train_test_split(X, y, random_state=1)\n",
    "\n",
    "# Specify Model\n",
    "iowa_model = DecisionTreeRegressor(random_state=1)\n",
    "# Fit Model\n",
    "iowa_model.fit(train_X, train_y)\n",
    "\n",
    "# Make validation predictions and calculate mean absolute error\n",
    "val_predictions = iowa_model.predict(val_X)\n",
    "val_mae = mean_absolute_error(val_predictions, val_y)\n",
    "print(\"Validation MAE: {:,.0f}\".format(val_mae))\n",
    "\n",
    "# Set up code checking\n",
    "from learntools.core import binder\n",
    "binder.bind(globals())\n",
    "from learntools.machine_learning.ex5 import *\n",
    "print(\"\\nSetup complete\")"
   ]
  },
  {
   "cell_type": "markdown",
   "id": "cc7e7051",
   "metadata": {
    "papermill": {
     "duration": 0.002471,
     "end_time": "2025-07-23T16:18:44.589432",
     "exception": false,
     "start_time": "2025-07-23T16:18:44.586961",
     "status": "completed"
    },
    "tags": []
   },
   "source": [
    "# Exercises\n",
    "You could write the function `get_mae` yourself. For now, we'll supply it. This is the same function you read about in the previous lesson. Just run the cell below."
   ]
  },
  {
   "cell_type": "code",
   "execution_count": 2,
   "id": "2ad9be72",
   "metadata": {
    "execution": {
     "iopub.execute_input": "2025-07-23T16:18:44.595681Z",
     "iopub.status.busy": "2025-07-23T16:18:44.595363Z",
     "iopub.status.idle": "2025-07-23T16:18:44.600778Z",
     "shell.execute_reply": "2025-07-23T16:18:44.599761Z"
    },
    "papermill": {
     "duration": 0.010492,
     "end_time": "2025-07-23T16:18:44.602346",
     "exception": false,
     "start_time": "2025-07-23T16:18:44.591854",
     "status": "completed"
    },
    "tags": []
   },
   "outputs": [],
   "source": [
    "def get_mae(max_leaf_nodes, train_X, val_X, train_y, val_y):\n",
    "    model = DecisionTreeRegressor(max_leaf_nodes=max_leaf_nodes, random_state=0)\n",
    "    model.fit(train_X, train_y)\n",
    "    preds_val = model.predict(val_X)\n",
    "    mae = mean_absolute_error(val_y, preds_val)\n",
    "    return(mae)"
   ]
  },
  {
   "cell_type": "markdown",
   "id": "ad960d69",
   "metadata": {
    "papermill": {
     "duration": 0.002404,
     "end_time": "2025-07-23T16:18:44.607531",
     "exception": false,
     "start_time": "2025-07-23T16:18:44.605127",
     "status": "completed"
    },
    "tags": []
   },
   "source": [
    "## Step 1: Compare Different Tree Sizes\n",
    "Write a loop that tries the following values for *max_leaf_nodes* from a set of possible values.\n",
    "\n",
    "Call the *get_mae* function on each value of max_leaf_nodes. Store the output in some way that allows you to select the value of `max_leaf_nodes` that gives the most accurate model on your data."
   ]
  },
  {
   "cell_type": "code",
   "execution_count": 3,
   "id": "183c06b8",
   "metadata": {
    "execution": {
     "iopub.execute_input": "2025-07-23T16:18:44.614576Z",
     "iopub.status.busy": "2025-07-23T16:18:44.613680Z",
     "iopub.status.idle": "2025-07-23T16:18:44.658734Z",
     "shell.execute_reply": "2025-07-23T16:18:44.657714Z"
    },
    "papermill": {
     "duration": 0.050065,
     "end_time": "2025-07-23T16:18:44.660138",
     "exception": false,
     "start_time": "2025-07-23T16:18:44.610073",
     "status": "completed"
    },
    "tags": []
   },
   "outputs": [
    {
     "data": {
      "application/javascript": [
       "parent.postMessage({\"jupyterEvent\": \"custom.exercise_interaction\", \"data\": {\"outcomeType\": 1, \"valueTowardsCompletion\": 0.5, \"interactionType\": 1, \"questionType\": 1, \"questionId\": \"1_BestTreeSize\", \"learnToolsVersion\": \"0.3.5\", \"failureMessage\": \"\", \"exceptionClass\": \"\", \"trace\": \"\"}}, \"*\")"
      ],
      "text/plain": [
       "<IPython.core.display.Javascript object>"
      ]
     },
     "metadata": {},
     "output_type": "display_data"
    },
    {
     "data": {
      "text/markdown": [
       "<span style=\"color:#33cc33\">Correct</span>"
      ],
      "text/plain": [
       "Correct"
      ]
     },
     "metadata": {},
     "output_type": "display_data"
    }
   ],
   "source": [
    "candidate_max_leaf_nodes = [5, 25, 50, 100, 250, 500]\n",
    "# Write loop to find the ideal tree size from candidate_max_leaf_nodes\n",
    "min_mae = 2147483647\n",
    "best_tree_size = 0\n",
    "for max_leaf_nodes in candidate_max_leaf_nodes:\n",
    "    mae = get_mae(max_leaf_nodes, train_X, val_X, train_y, val_y)\n",
    "    if min_mae > mae: \n",
    "        best_tree_size = max_leaf_nodes\n",
    "        min_mae = mae\n",
    "\n",
    "# Check your answer\n",
    "step_1.check()"
   ]
  },
  {
   "cell_type": "code",
   "execution_count": 4,
   "id": "8a1fd267",
   "metadata": {
    "execution": {
     "iopub.execute_input": "2025-07-23T16:18:44.667032Z",
     "iopub.status.busy": "2025-07-23T16:18:44.666747Z",
     "iopub.status.idle": "2025-07-23T16:18:44.670836Z",
     "shell.execute_reply": "2025-07-23T16:18:44.670097Z"
    },
    "papermill": {
     "duration": 0.009347,
     "end_time": "2025-07-23T16:18:44.672449",
     "exception": false,
     "start_time": "2025-07-23T16:18:44.663102",
     "status": "completed"
    },
    "tags": []
   },
   "outputs": [],
   "source": [
    "# The lines below will show you a hint or the solution.\n",
    "# step_1.hint() \n",
    "# step_1.solution()"
   ]
  },
  {
   "cell_type": "markdown",
   "id": "9fe8425f",
   "metadata": {
    "papermill": {
     "duration": 0.002497,
     "end_time": "2025-07-23T16:18:44.678033",
     "exception": false,
     "start_time": "2025-07-23T16:18:44.675536",
     "status": "completed"
    },
    "tags": []
   },
   "source": [
    "## Step 2: Fit Model Using All Data\n",
    "You know the best tree size. If you were going to deploy this model in practice, you would make it even more accurate by using all of the data and keeping that tree size.  That is, you don't need to hold out the validation data now that you've made all your modeling decisions."
   ]
  },
  {
   "cell_type": "code",
   "execution_count": 5,
   "id": "1af8cc45",
   "metadata": {
    "execution": {
     "iopub.execute_input": "2025-07-23T16:18:44.685125Z",
     "iopub.status.busy": "2025-07-23T16:18:44.684642Z",
     "iopub.status.idle": "2025-07-23T16:18:44.699584Z",
     "shell.execute_reply": "2025-07-23T16:18:44.698725Z"
    },
    "papermill": {
     "duration": 0.020188,
     "end_time": "2025-07-23T16:18:44.700969",
     "exception": false,
     "start_time": "2025-07-23T16:18:44.680781",
     "status": "completed"
    },
    "tags": []
   },
   "outputs": [
    {
     "data": {
      "application/javascript": [
       "parent.postMessage({\"jupyterEvent\": \"custom.exercise_interaction\", \"data\": {\"outcomeType\": 1, \"valueTowardsCompletion\": 0.5, \"interactionType\": 1, \"questionType\": 2, \"questionId\": \"2_FitModelWithAllData\", \"learnToolsVersion\": \"0.3.5\", \"failureMessage\": \"\", \"exceptionClass\": \"\", \"trace\": \"\"}}, \"*\")"
      ],
      "text/plain": [
       "<IPython.core.display.Javascript object>"
      ]
     },
     "metadata": {},
     "output_type": "display_data"
    },
    {
     "data": {
      "text/markdown": [
       "<span style=\"color:#33cc33\">Correct</span>"
      ],
      "text/plain": [
       "Correct"
      ]
     },
     "metadata": {},
     "output_type": "display_data"
    }
   ],
   "source": [
    "# Fill in argument to make optimal size and uncomment\n",
    "final_model = DecisionTreeRegressor(max_leaf_nodes=best_tree_size)\n",
    "\n",
    "# fit the final model and uncomment the next two lines\n",
    "final_model.fit(X, y)\n",
    "\n",
    "# Check your answer\n",
    "step_2.check()"
   ]
  },
  {
   "cell_type": "code",
   "execution_count": 6,
   "id": "f2f0c695",
   "metadata": {
    "execution": {
     "iopub.execute_input": "2025-07-23T16:18:44.707997Z",
     "iopub.status.busy": "2025-07-23T16:18:44.707686Z",
     "iopub.status.idle": "2025-07-23T16:18:44.711458Z",
     "shell.execute_reply": "2025-07-23T16:18:44.710679Z"
    },
    "papermill": {
     "duration": 0.008827,
     "end_time": "2025-07-23T16:18:44.712796",
     "exception": false,
     "start_time": "2025-07-23T16:18:44.703969",
     "status": "completed"
    },
    "tags": []
   },
   "outputs": [],
   "source": [
    "# step_2.hint()\n",
    "# step_2.solution()"
   ]
  },
  {
   "cell_type": "markdown",
   "id": "78e35b30",
   "metadata": {
    "papermill": {
     "duration": 0.002786,
     "end_time": "2025-07-23T16:18:44.718647",
     "exception": false,
     "start_time": "2025-07-23T16:18:44.715861",
     "status": "completed"
    },
    "tags": []
   },
   "source": [
    "You've tuned this model and improved your results. But we are still using Decision Tree models, which are not very sophisticated by modern machine learning standards. In the next step you will learn to use Random Forests to improve your models even more.\n",
    "\n",
    "# Keep Going\n",
    "\n",
    "You are ready for **[Random Forests](https://www.kaggle.com/dansbecker/random-forests).**\n"
   ]
  },
  {
   "cell_type": "markdown",
   "id": "e5ea57bf",
   "metadata": {
    "papermill": {
     "duration": 0.002607,
     "end_time": "2025-07-23T16:18:44.724105",
     "exception": false,
     "start_time": "2025-07-23T16:18:44.721498",
     "status": "completed"
    },
    "tags": []
   },
   "source": [
    "---\n",
    "\n",
    "\n",
    "\n",
    "\n",
    "*Have questions or comments? Visit the [course discussion forum](https://www.kaggle.com/learn/intro-to-machine-learning/discussion) to chat with other learners.*"
   ]
  }
 ],
 "metadata": {
  "kaggle": {
   "accelerator": "none",
   "dataSources": [
    {
     "databundleVersionId": 111096,
     "sourceId": 10211,
     "sourceType": "competition"
    },
    {
     "datasetId": 11167,
     "sourceId": 15520,
     "sourceType": "datasetVersion"
    },
    {
     "datasetId": 2709,
     "sourceId": 38454,
     "sourceType": "datasetVersion"
    }
   ],
   "isGpuEnabled": false,
   "isInternetEnabled": false,
   "language": "python",
   "sourceType": "notebook"
  },
  "kernelspec": {
   "display_name": "Python 3",
   "language": "python",
   "name": "python3"
  },
  "language_info": {
   "codemirror_mode": {
    "name": "ipython",
    "version": 3
   },
   "file_extension": ".py",
   "mimetype": "text/x-python",
   "name": "python",
   "nbconvert_exporter": "python",
   "pygments_lexer": "ipython3",
   "version": "3.11.13"
  },
  "papermill": {
   "default_parameters": {},
   "duration": 9.626424,
   "end_time": "2025-07-23T16:18:45.446374",
   "environment_variables": {},
   "exception": null,
   "input_path": "__notebook__.ipynb",
   "output_path": "__notebook__.ipynb",
   "parameters": {},
   "start_time": "2025-07-23T16:18:35.819950",
   "version": "2.6.0"
  }
 },
 "nbformat": 4,
 "nbformat_minor": 5
}
